{
 "cells": [
  {
   "cell_type": "code",
   "execution_count": 1,
   "metadata": {
    "collapsed": true
   },
   "outputs": [],
   "source": [
    "%run /project2/lgrandi/zhut/Initialize_tianyu.ipynb"
   ]
  },
  {
   "cell_type": "code",
   "execution_count": 42,
   "metadata": {
    "collapsed": false
   },
   "outputs": [],
   "source": [
    "import datetime\n",
    "import getpass\n",
    "from cax.qsub import submit_job"
   ]
  },
  {
   "cell_type": "code",
   "execution_count": 73,
   "metadata": {
    "collapsed": true
   },
   "outputs": [],
   "source": [
    "class Submit():\n",
    "    def submit(self, max_num_submit=10, num_jobs=10):\n",
    "        self.max_num_submit = max_num_submit\n",
    "\n",
    "        index = 0\n",
    "        while (index < num_jobs):\n",
    "            if (self.working_job() < self.max_num_submit):\n",
    "                self._submit_single()\n",
    "                time.sleep(2)\n",
    "                index += 1\n",
    "\n",
    "    # check my jobs\n",
    "    def working_job(self):\n",
    "        cmd = 'squeue --user={user} | wc -l'.format(\n",
    "            user=getpass.getuser())\n",
    "        jobNum = int(os.popen(cmd).read())\n",
    "        return jobNum - 1\n",
    "\n",
    "    def _submit_single(self):\n",
    "        cmd = \"\"\"#!/bin/bash\n",
    "#SBATCH --job-name={job_name}\n",
    "#SBATCH --ntasks=1\n",
    "#SBATCH --cpus-per-task=1\n",
    "#SBATCH --mem-per-cpu=10000\n",
    "#SBATCH --output={log}/{job_name}.log\n",
    "#SBATCH --error={log}/{job_name}.log\n",
    "#SBATCH --account=pi-lgrandi\n",
    "#SBATCH --partition={partition}\n",
    "#SBATCH --qos={qos}\n",
    "export PATH=/project/lgrandi/anaconda3/bin:$PATH\n",
    "export PROCESSING_DIR={tmp}\n",
    "\n",
    "mkdir ${{PROCESSING_DIR}}\n",
    "cd ${{PROCESSING_DIR}}\n",
    "\n",
    "source activate {conda_env}\n",
    "python ../run_simulator.py {file_name}\n",
    "\n",
    "rm -rf ${{PROCESSING_DIR}}\n",
    "\"\"\"\n",
    "        name = datetime.datetime.now().strftime(\"%y%m%d_%H%M%S\")\n",
    "        print(name)\n",
    "        \n",
    "        y = cmd.format(file_name=name,\n",
    "                       job_name=name[-6:],\n",
    "                       log=os.getcwd()+'/log',\n",
    "                       tmp=os.getcwd()+'/tmp_%s'%name,\n",
    "                       cwd=os.getcwd(),\n",
    "                       partition='xenon1t',\n",
    "                       qos='xenon1t',\n",
    "                       conda_env='pax_head',\n",
    "                       )\n",
    "        submit_job(y)\n",
    "        #print(y)"
   ]
  },
  {
   "cell_type": "code",
   "execution_count": 76,
   "metadata": {
    "collapsed": false
   },
   "outputs": [],
   "source": [
    "control = Submit()"
   ]
  },
  {
   "cell_type": "code",
   "execution_count": 77,
   "metadata": {
    "collapsed": false
   },
   "outputs": [
    {
     "name": "stdout",
     "output_type": "stream",
     "text": [
      "190308_150959\n",
      "190308_151001\n",
      "190308_151004\n",
      "190308_151007\n",
      "190308_151009\n",
      "190308_151012\n",
      "190308_151014\n",
      "190308_151017\n",
      "190308_151019\n",
      "190308_151021\n",
      "190308_151023\n",
      "190308_151026\n",
      "190308_151028\n",
      "190308_151030\n",
      "190308_151032\n",
      "190308_151034\n",
      "190308_151036\n",
      "190308_151038\n",
      "190308_151041\n",
      "190308_151043\n",
      "190308_151045\n",
      "190308_151049\n",
      "190308_151051\n",
      "190308_151054\n",
      "190308_151056\n",
      "190308_151059\n",
      "190308_151101\n",
      "190308_151104\n",
      "190308_151107\n",
      "190308_151109\n",
      "190308_151112\n",
      "190308_151114\n",
      "190308_151117\n",
      "190308_151119\n",
      "190308_151121\n",
      "190308_151123\n",
      "190308_151125\n",
      "190308_151128\n",
      "190308_151130\n",
      "190308_151132\n",
      "190308_151134\n",
      "190308_151136\n",
      "190308_151138\n",
      "190308_151140\n",
      "190308_151143\n",
      "190308_151145\n",
      "190308_151149\n",
      "190308_151151\n",
      "190308_151154\n",
      "190308_151156\n"
     ]
    }
   ],
   "source": [
    "control.submit(max_num_submit=55, num_jobs=50)"
   ]
  },
  {
   "cell_type": "code",
   "execution_count": null,
   "metadata": {
    "collapsed": true
   },
   "outputs": [],
   "source": []
  }
 ],
 "metadata": {
  "kernelspec": {
   "display_name": "Python 3",
   "language": "python",
   "name": "python3"
  },
  "language_info": {
   "codemirror_mode": {
    "name": "ipython",
    "version": 3
   },
   "file_extension": ".py",
   "mimetype": "text/x-python",
   "name": "python",
   "nbconvert_exporter": "python",
   "pygments_lexer": "ipython3",
   "version": "3.4.4"
  }
 },
 "nbformat": 4,
 "nbformat_minor": 2
}
